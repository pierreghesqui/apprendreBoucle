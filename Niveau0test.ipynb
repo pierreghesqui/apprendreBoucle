{
 "cells": [
  {
   "cell_type": "code",
   "execution_count": 1,
   "id": "31d4428b",
   "metadata": {},
   "outputs": [
    {
     "data": {
      "text/plain": [
       "'test'"
      ]
     },
     "metadata": {},
     "output_type": "display_data"
    },
    {
     "ename": "TypeError",
     "evalue": "can only concatenate str (not \"int\") to str",
     "output_type": "error",
     "traceback": [
      "\u001b[1;31m---------------------------------------------------------------------------\u001b[0m",
      "\u001b[1;31mTypeError\u001b[0m                                 Traceback (most recent call last)",
      "Input \u001b[1;32mIn [1]\u001b[0m, in \u001b[0;36m<cell line: 4>\u001b[1;34m()\u001b[0m\n\u001b[0;32m      1\u001b[0m \u001b[38;5;28;01mfrom\u001b[39;00m \u001b[38;5;21;01mfonctions\u001b[39;00m\u001b[38;5;21;01m.\u001b[39;00m\u001b[38;5;21;01mvoiture\u001b[39;00m \u001b[38;5;28;01mimport\u001b[39;00m Voiture\n\u001b[0;32m      3\u001b[0m \u001b[38;5;66;03m# ===================================================\u001b[39;00m\n\u001b[1;32m----> 4\u001b[0m maVoiture \u001b[38;5;241m=\u001b[39m \u001b[43mVoiture\u001b[49m\u001b[43m(\u001b[49m\u001b[38;5;241;43m0\u001b[39;49m\u001b[43m)\u001b[49m\n\u001b[0;32m      5\u001b[0m \u001b[38;5;28;01mwhile\u001b[39;00m \u001b[38;5;129;01mnot\u001b[39;00m maVoiture\u001b[38;5;241m.\u001b[39mestSurParking():\n\u001b[0;32m      6\u001b[0m     \u001b[38;5;28;01mif\u001b[39;00m maVoiture\u001b[38;5;241m.\u001b[39mverifierSiRouteADroite():\n",
      "File \u001b[1;32m~\\Desktop\\jupyter\\ApprendreBoucle2\\fonctions\\voiture.py:27\u001b[0m, in \u001b[0;36mVoiture.__init__\u001b[1;34m(self, niveau, ligne, colonne, hauteur, largeur)\u001b[0m\n\u001b[0;32m     20\u001b[0m \u001b[38;5;124;03m'''\u001b[39;00m\n\u001b[0;32m     21\u001b[0m \u001b[38;5;124;03mf = open(os.path.join( 'fonctions', 'arrierePlans','config.txt'),'r')\u001b[39;00m\n\u001b[0;32m     22\u001b[0m \u001b[38;5;124;03mlines = f.readlines()\u001b[39;00m\n\u001b[0;32m     23\u001b[0m \u001b[38;5;124;03mf.close()\u001b[39;00m\n\u001b[0;32m     24\u001b[0m \u001b[38;5;124;03mniveau = lines[-1]\u001b[39;00m\n\u001b[0;32m     25\u001b[0m \u001b[38;5;124;03m'''\u001b[39;00m\n\u001b[0;32m     26\u001b[0m \u001b[38;5;28mself\u001b[39m\u001b[38;5;241m.\u001b[39mniveau \u001b[38;5;241m=\u001b[39m niveau\n\u001b[1;32m---> 27\u001b[0m test \u001b[38;5;241m=\u001b[39m \u001b[38;5;124;43m'\u001b[39;49m\u001b[38;5;124;43map_niveau\u001b[39;49m\u001b[38;5;124;43m'\u001b[39;49m\u001b[38;5;241;43m+\u001b[39;49m\u001b[43m \u001b[49m\u001b[43mniveau\u001b[49m\n\u001b[0;32m     28\u001b[0m test\u001b[38;5;241m=\u001b[39m test\u001b[38;5;241m+\u001b[39m\u001b[38;5;124m'\u001b[39m\u001b[38;5;124m.png\u001b[39m\u001b[38;5;124m'\u001b[39m\n\u001b[0;32m     29\u001b[0m pathAP \u001b[38;5;241m=\u001b[39m os\u001b[38;5;241m.\u001b[39mpath\u001b[38;5;241m.\u001b[39mjoin(\u001b[38;5;124m'\u001b[39m\u001b[38;5;124mfonctions\u001b[39m\u001b[38;5;124m'\u001b[39m, \u001b[38;5;124m'\u001b[39m\u001b[38;5;124marrierePlans\u001b[39m\u001b[38;5;124m'\u001b[39m,test)\n",
      "\u001b[1;31mTypeError\u001b[0m: can only concatenate str (not \"int\") to str"
     ]
    }
   ],
   "source": [
    "from fonctions.voiture import Voiture\n",
    "\n",
    "# ===================================================\n",
    "maVoiture = Voiture(0)\n",
    "while not maVoiture.estSurParking():\n",
    "    if maVoiture.verifierSiRouteADroite():\n",
    "        maVoiture.tournerADroite()\n",
    "    elif maVoiture.verifierSiRouteAGauche():\n",
    "        maVoiture.tournerAGauche()\n",
    "    maVoiture.avancer()\n",
    "\n",
    "#===================================================\n",
    "maVoiture.verifierMission()\n"
   ]
  },
  {
   "cell_type": "code",
   "execution_count": null,
   "id": "50ca14f7",
   "metadata": {},
   "outputs": [],
   "source": []
  },
  {
   "cell_type": "code",
   "execution_count": null,
   "id": "d68e7b3c",
   "metadata": {},
   "outputs": [],
   "source": []
  }
 ],
 "metadata": {
  "kernelspec": {
   "display_name": "Python 3 (ipykernel)",
   "language": "python",
   "name": "python3"
  },
  "language_info": {
   "codemirror_mode": {
    "name": "ipython",
    "version": 3
   },
   "file_extension": ".py",
   "mimetype": "text/x-python",
   "name": "python",
   "nbconvert_exporter": "python",
   "pygments_lexer": "ipython3",
   "version": "3.9.12"
  }
 },
 "nbformat": 4,
 "nbformat_minor": 5
}
