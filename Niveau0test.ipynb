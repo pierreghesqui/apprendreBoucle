{
 "cells": [
  {
   "cell_type": "code",
   "execution_count": 1,
   "id": "31d4428b",
   "metadata": {},
   "outputs": [
    {
     "ename": "AttributeError",
     "evalue": "'function' object has no attribute 'display'",
     "output_type": "error",
     "traceback": [
      "\u001b[1;31m---------------------------------------------------------------------------\u001b[0m",
      "\u001b[1;31mAttributeError\u001b[0m                            Traceback (most recent call last)",
      "Input \u001b[1;32mIn [1]\u001b[0m, in \u001b[0;36m<cell line: 4>\u001b[1;34m()\u001b[0m\n\u001b[0;32m      1\u001b[0m \u001b[38;5;28;01mfrom\u001b[39;00m \u001b[38;5;21;01mfonctions\u001b[39;00m\u001b[38;5;21;01m.\u001b[39;00m\u001b[38;5;21;01mvoiture\u001b[39;00m \u001b[38;5;28;01mimport\u001b[39;00m Voiture\n\u001b[0;32m      3\u001b[0m \u001b[38;5;66;03m# ===================================================\u001b[39;00m\n\u001b[1;32m----> 4\u001b[0m maVoiture \u001b[38;5;241m=\u001b[39m \u001b[43mVoiture\u001b[49m\u001b[43m(\u001b[49m\u001b[43m)\u001b[49m\n\u001b[0;32m      5\u001b[0m \u001b[38;5;28;01mwhile\u001b[39;00m \u001b[38;5;129;01mnot\u001b[39;00m maVoiture\u001b[38;5;241m.\u001b[39mestSurParking():\n\u001b[0;32m      6\u001b[0m     \u001b[38;5;28;01mif\u001b[39;00m maVoiture\u001b[38;5;241m.\u001b[39mverifierSiRouteADroite():\n",
      "File \u001b[1;32m~\\Desktop\\jupyter\\ApprendreBoucle2\\fonctions\\voiture.py:18\u001b[0m, in \u001b[0;36mVoiture.__init__\u001b[1;34m(self, ligne, colonne, hauteur, largeur)\u001b[0m\n\u001b[0;32m     16\u001b[0m         os\u001b[38;5;241m.\u001b[39mremove(os\u001b[38;5;241m.\u001b[39mpath\u001b[38;5;241m.\u001b[39mjoin(\u001b[38;5;28mdir\u001b[39m, f))\n\u001b[0;32m     17\u001b[0m \u001b[38;5;66;03m#===\u001b[39;00m\n\u001b[1;32m---> 18\u001b[0m fenetre \u001b[38;5;241m=\u001b[39m \u001b[43mFenetre\u001b[49m\u001b[43m(\u001b[49m\u001b[38;5;241;43m1000\u001b[39;49m\u001b[43m,\u001b[49m\u001b[38;5;241;43m1000\u001b[39;49m\u001b[43m)\u001b[49m\n\u001b[0;32m     19\u001b[0m f \u001b[38;5;241m=\u001b[39m \u001b[38;5;28mopen\u001b[39m(os\u001b[38;5;241m.\u001b[39mpath\u001b[38;5;241m.\u001b[39mjoin( \u001b[38;5;124m'\u001b[39m\u001b[38;5;124mfonctions\u001b[39m\u001b[38;5;124m'\u001b[39m, \u001b[38;5;124m'\u001b[39m\u001b[38;5;124marrierePlans\u001b[39m\u001b[38;5;124m'\u001b[39m,\u001b[38;5;124m'\u001b[39m\u001b[38;5;124mconfig.txt\u001b[39m\u001b[38;5;124m'\u001b[39m),\u001b[38;5;124m'\u001b[39m\u001b[38;5;124mr\u001b[39m\u001b[38;5;124m'\u001b[39m)\n\u001b[0;32m     20\u001b[0m lines \u001b[38;5;241m=\u001b[39m f\u001b[38;5;241m.\u001b[39mreadlines()\n",
      "File \u001b[1;32m~\\Desktop\\jupyter\\ApprendreBoucle2\\fonctions\\fenetre.py:14\u001b[0m, in \u001b[0;36mFenetre.__init__\u001b[1;34m(self, hauteur, largeur)\u001b[0m\n\u001b[0;32m     12\u001b[0m \u001b[38;5;28mself\u001b[39m\u001b[38;5;241m.\u001b[39mecranLargeur \u001b[38;5;241m=\u001b[39m \u001b[38;5;241m200\u001b[39m\n\u001b[0;32m     13\u001b[0m \u001b[38;5;28mself\u001b[39m\u001b[38;5;241m.\u001b[39mecranHauteur \u001b[38;5;241m=\u001b[39m \u001b[38;5;241m200\u001b[39m\n\u001b[1;32m---> 14\u001b[0m d\u001b[38;5;241m=\u001b[39m\u001b[43mdisplay\u001b[49m\u001b[38;5;241;43m.\u001b[39;49m\u001b[43mdisplay\u001b[49m(\u001b[38;5;124m'\u001b[39m\u001b[38;5;124mtest\u001b[39m\u001b[38;5;124m'\u001b[39m, display_id\u001b[38;5;241m=\u001b[39m\u001b[38;5;124m'\u001b[39m\u001b[38;5;124messai\u001b[39m\u001b[38;5;124m'\u001b[39m)\n",
      "\u001b[1;31mAttributeError\u001b[0m: 'function' object has no attribute 'display'"
     ]
    }
   ],
   "source": [
    "from fonctions.voiture import Voiture\n",
    "\n",
    "# ===================================================\n",
    "maVoiture = Voiture()\n",
    "while not maVoiture.estSurParking():\n",
    "    if maVoiture.verifierSiRouteADroite():\n",
    "        maVoiture.tournerADroite()\n",
    "    elif maVoiture.verifierSiRouteAGauche():\n",
    "        maVoiture.tournerAGauche()\n",
    "    maVoiture.avancer()\n",
    "\n",
    "#===================================================\n",
    "maVoiture.verifierMission()\n"
   ]
  },
  {
   "cell_type": "code",
   "execution_count": null,
   "id": "50ca14f7",
   "metadata": {},
   "outputs": [],
   "source": []
  },
  {
   "cell_type": "code",
   "execution_count": null,
   "id": "d68e7b3c",
   "metadata": {},
   "outputs": [],
   "source": []
  }
 ],
 "metadata": {
  "kernelspec": {
   "display_name": "Python 3 (ipykernel)",
   "language": "python",
   "name": "python3"
  },
  "language_info": {
   "codemirror_mode": {
    "name": "ipython",
    "version": 3
   },
   "file_extension": ".py",
   "mimetype": "text/x-python",
   "name": "python",
   "nbconvert_exporter": "python",
   "pygments_lexer": "ipython3",
   "version": "3.9.12"
  }
 },
 "nbformat": 4,
 "nbformat_minor": 5
}
