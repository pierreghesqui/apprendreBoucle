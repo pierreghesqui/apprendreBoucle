{
 "cells": [
  {
   "cell_type": "code",
   "execution_count": 1,
   "id": "31d4428b",
   "metadata": {},
   "outputs": [
    {
     "ename": "SyntaxError",
     "evalue": "invalid syntax (voiture.py, line 11)",
     "output_type": "error",
     "traceback": [
      "Traceback \u001b[1;36m(most recent call last)\u001b[0m:\n",
      "  File \u001b[0;32m~\\miniconda3\\lib\\site-packages\\IPython\\core\\interactiveshell.py:3397\u001b[0m in \u001b[0;35mrun_code\u001b[0m\n    exec(code_obj, self.user_global_ns, self.user_ns)\n",
      "\u001b[1;36m  Input \u001b[1;32mIn [1]\u001b[1;36m in \u001b[1;35m<cell line: 1>\u001b[1;36m\u001b[0m\n\u001b[1;33m    from fonctions.voiture import Voiture\u001b[0m\n",
      "\u001b[1;36m  File \u001b[1;32m~\\Desktop\\jupyter\\ApprendreBoucle2\\fonctions\\voiture.py:11\u001b[1;36m\u001b[0m\n\u001b[1;33m    def __init__(self,niveau ligne=0,colonne=0, hauteur = 100, largeur = 100):\u001b[0m\n\u001b[1;37m                             ^\u001b[0m\n\u001b[1;31mSyntaxError\u001b[0m\u001b[1;31m:\u001b[0m invalid syntax\n"
     ]
    }
   ],
   "source": [
    "from fonctions.voiture import Voiture\n",
    "\n",
    "# ===================================================\n",
    "maVoiture = Voiture(0)\n",
    "while not maVoiture.estSurParking():\n",
    "    if maVoiture.verifierSiRouteADroite():\n",
    "        maVoiture.tournerADroite()\n",
    "    elif maVoiture.verifierSiRouteAGauche():\n",
    "        maVoiture.tournerAGauche()\n",
    "    maVoiture.avancer()\n",
    "\n",
    "#===================================================\n",
    "maVoiture.verifierMission()\n"
   ]
  },
  {
   "cell_type": "code",
   "execution_count": null,
   "id": "50ca14f7",
   "metadata": {},
   "outputs": [],
   "source": []
  },
  {
   "cell_type": "code",
   "execution_count": null,
   "id": "d68e7b3c",
   "metadata": {},
   "outputs": [],
   "source": []
  }
 ],
 "metadata": {
  "kernelspec": {
   "display_name": "Python 3 (ipykernel)",
   "language": "python",
   "name": "python3"
  },
  "language_info": {
   "codemirror_mode": {
    "name": "ipython",
    "version": 3
   },
   "file_extension": ".py",
   "mimetype": "text/x-python",
   "name": "python",
   "nbconvert_exporter": "python",
   "pygments_lexer": "ipython3",
   "version": "3.9.12"
  }
 },
 "nbformat": 4,
 "nbformat_minor": 5
}
