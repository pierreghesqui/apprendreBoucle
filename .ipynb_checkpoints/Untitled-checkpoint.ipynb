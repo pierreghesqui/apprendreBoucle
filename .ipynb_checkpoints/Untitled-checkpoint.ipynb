{
 "cells": [
  {
   "cell_type": "code",
   "execution_count": null,
   "id": "e7b1b917",
   "metadata": {},
   "outputs": [],
   "source": [
    "from voiture import Voiture\n",
    "\n",
    "# ===================================================\n",
    "maVoiture = Voiture()\n",
    "while not maVoiture.estSurParking():\n",
    "    if maVoiture.verifierSiRouteADroite():\n",
    "        maVoiture.tournerADroite()\n",
    "    elif maVoiture.verifierSiRouteAGauche():\n",
    "        maVoiture.tournerAGauche()\n",
    "    maVoiture.avancer()\n",
    "\n",
    "#===================================================\n",
    "maVoiture.verifierMission()"
   ]
  },
  {
   "cell_type": "code",
   "execution_count": null,
   "id": "087d6135",
   "metadata": {},
   "outputs": [],
   "source": []
  }
 ],
 "metadata": {
  "kernelspec": {
   "display_name": "Python 3 (ipykernel)",
   "language": "python",
   "name": "python3"
  },
  "language_info": {
   "codemirror_mode": {
    "name": "ipython",
    "version": 3
   },
   "file_extension": ".py",
   "mimetype": "text/x-python",
   "name": "python",
   "nbconvert_exporter": "python",
   "pygments_lexer": "ipython3",
   "version": "3.9.12"
  }
 },
 "nbformat": 4,
 "nbformat_minor": 5
}
