{
 "cells": [
  {
   "attachments": {
    "ap_niveau4.png": {
     "image/png": "[encoded data removed]"
    }
   },
   "cell_type": "markdown",
   "id": "f6d4540d",
   "metadata": {},
   "source": [
    "# Niveau 4\n",
    "\n",
    "**Liste des instructions :** \n",
    "- Faire avancer la voiture d'une case : <code>maVoiture.avancer()</code>\n",
    "- Tourner à gauche : <code>maVoiture.tournerAGauche()</code>\n",
    "- Tourner à gauche : <code>maVoiture.tournerADroite()</code>\n",
    "\n",
    "![ap_niveau4.png](attachment:ap_niveau4.png)\n",
    "\n",
    "✍️ **Complète le code ci-dessous pour que la voiture se rende sur la case parking**"
   ]
  },
  {
   "cell_type": "code",
   "execution_count": null,
   "id": "509ee31b",
   "metadata": {},
   "outputs": [],
   "source": [
    "from fonctions.voiture import Voiture # Importation des fonctions utiles pour jouer\n",
    "maVoiture = Voiture(4) #création de la voiture\n",
    "\n",
    "# ===============ECRIS CI-DESSOUS LES INSTRUCTIONS POUR QUE LA VOITURE ARRIVE AU PARKING=====\n",
    "\n",
    "\n",
    "#================NE PAS MODIFIER LA LIGNE CI-DESSOUS==========================================\n",
    "maVoiture.verifierMission()"
   ]
  }
 ],
 "metadata": {
  "kernelspec": {
   "display_name": "Python 3 (ipykernel)",
   "language": "python",
   "name": "python3"
  },
  "language_info": {
   "codemirror_mode": {
    "name": "ipython",
    "version": 3
   },
   "file_extension": ".py",
   "mimetype": "text/x-python",
   "name": "python",
   "nbconvert_exporter": "python",
   "pygments_lexer": "ipython3",
   "version": "3.9.12"
  }
 },
 "nbformat": 4,
 "nbformat_minor": 5
}
