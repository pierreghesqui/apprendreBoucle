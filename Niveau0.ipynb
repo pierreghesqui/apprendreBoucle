{
 "cells": [
  {
   "cell_type": "markdown",
   "id": "f11981d4",
   "metadata": {},
   "source": [
    "# 🚗 Jeu de la voiture 🚗  (niveau 0)\n",
    "Bonjour jeune programmeur ! <br>\n",
    "**Le but de ce jeu est de faire avancer une voiture jusqu'à sa place de parking.** "
   ]
  },
  {
   "cell_type": "markdown",
   "id": "1d6582c9",
   "metadata": {},
   "source": [
    "Pour cela il faudra coder les instructions pour que la voiture se déplace : <br>\n",
    "**Liste des instructions :** \n",
    "- Faire avancer la voiture d'une case : <code>maVoiture.avancer()</code>\n",
    "- Tourner à gauche : <code>maVoiture.tournerAGauche()</code>\n",
    "- Tourner à gauche : <code>maVoiture.tournerADroite()</code>"
   ]
  },
  {
   "attachments": {
    "ap_niveau0.png": {
     "image/png": "[encoded data removed]"
    }
   },
   "cell_type": "markdown",
   "id": "dcd959de",
   "metadata": {},
   "source": [
    "✍️ **Complète le code ci-dessous pour que la voiture se rende sur la case parking (case blanche avec un 'P')**\n",
    "![ap_niveau0.png](attachment:ap_niveau0.png)"
   ]
  },
  {
   "cell_type": "code",
   "execution_count": null,
   "id": "31d4428b",
   "metadata": {},
   "outputs": [],
   "source": [
    "from fonctions.voiture import Voiture # Importation des fonctions utiles pour jouer\n",
    "maVoiture = Voiture(0) #création de la voiture\n",
    "\n",
    "# ===============ECRIRE CI-DESSOUS LES INSTRUCTIONS POUR QUE LA VOITURE ARRIVE AU PARKING=====\n",
    "\n",
    "\n",
    "\n",
    "#================NE PAS MODIFIER LA LIGNE CI-DESSOUS==========================================\n",
    "maVoiture.verifierMission()\n"
   ]
  },
  {
   "cell_type": "markdown",
   "id": "452869a9",
   "metadata": {},
   "source": [
    "Lorsque tu auras réussi le niveau 0, passe au niveau 1 en cliquant dans la colonne de gauche sur Niveau1.ipynb "
   ]
  }
 ],
 "metadata": {
  "kernelspec": {
   "display_name": "Python 3 (ipykernel)",
   "language": "python",
   "name": "python3"
  },
  "language_info": {
   "codemirror_mode": {
    "name": "ipython",
    "version": 3
   },
   "file_extension": ".py",
   "mimetype": "text/x-python",
   "name": "python",
   "nbconvert_exporter": "python",
   "pygments_lexer": "ipython3",
   "version": "3.9.12"
  }
 },
 "nbformat": 4,
 "nbformat_minor": 5
}
